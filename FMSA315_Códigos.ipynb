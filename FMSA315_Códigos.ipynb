{
  "cells": [
    {
      "cell_type": "code",
      "execution_count": 2,
      "metadata": {
        "id": "rbzAXgWvNqfy"
      },
      "outputs": [],
      "source": [
        "# Librerías usadas\n",
        "import pandas as pd\n",
        "import numpy as np\n",
        "import scipy.stats as ss\n",
        "import seaborn as sn\n",
        "import statsmodels.formula.api as smf\n",
        "import statsmodels.stats.diagnostic as smd\n",
        "import matplotlib.pyplot as plt\n",
        "from statsmodels.graphics.regressionplots import abline_plot"
      ]
    },
    {
      "cell_type": "code",
      "execution_count": null,
      "metadata": {
        "id": "TX_WPbJZW7Qj"
      },
      "outputs": [],
      "source": [
        "# Instrucción para importar un csv y asignar nombre \"df\".\n",
        "df = pd.read_csv()\n",
        "# Instrucción para importar datos manualmente\n",
        "df = pd.DataFrame({'y' : [y1,y2,y3,...],\n",
        "                   'x': [x1,x2,x3,...]})"
      ]
    },
    {
      "cell_type": "code",
      "execution_count": null,
      "metadata": {
        "id": "RdkM0I_Rdxpr"
      },
      "outputs": [],
      "source": [
        "# Instrucción para calcular\n",
        "# Suma de columna\n",
        "df.sum()\n",
        "# Media\n",
        "np.mean()\n",
        "# Varianza\n",
        "np.var()\n",
        "# Desviación estándar\n",
        "np.std()\n",
        "# Covarianza\n",
        "df.cov()\n",
        "# Correlación\n",
        "df.corr()"
      ]
    },
    {
      "cell_type": "code",
      "execution_count": null,
      "metadata": {
        "id": "KpB5Gu0EBKpx"
      },
      "outputs": [],
      "source": [
        "# Instrucción para calcular fda\n",
        "# Distribución Binomial con parámetros n, p\n",
        "ss.binom.cdf(x,n,p)\n",
        "# Distribución Poisson con parámetro mu\n",
        "ss.poisson.cdf(x,mu)\n",
        "# Distribución Normal con parámetros mu y sigma\n",
        "ss.norm.cdf(x, mu, sigma)\n",
        "# Distribución T-Student con gl\n",
        "ss.t.cdf(t,gl)\n",
        "# Distribución Fisher-Snedecor con parámetros  gl1 y gl2\n",
        "ss.f.cdf(x, gl1, gl2)\n",
        "# Distribución Chi-Cuadrado con gl\n",
        "ss.chi2.cdf(x,gl)"
      ]
    },
    {
      "cell_type": "code",
      "execution_count": null,
      "metadata": {
        "id": "WksMgf1IB6y7"
      },
      "outputs": [],
      "source": [
        "# Instrucción para calcular valor z (Normal Estándar) dada una probabilidad alfa\n",
        "ss.norm.ppf(alfa)"
      ]
    },
    {
      "cell_type": "code",
      "execution_count": null,
      "metadata": {
        "id": "VrkdQw_vcIsX"
      },
      "outputs": [],
      "source": [
        "# Instrucciones para gráfica de puntos y modelo de regresión\n",
        "fig, ax = plt.subplots()\n",
        "sn.scatterplot(x= ,y , ax = ax)\n",
        "abline_plot(model_results = modelo, ax = ax, );"
      ]
    },
    {
      "cell_type": "code",
      "execution_count": null,
      "metadata": {
        "id": "97bl8rI_aciu"
      },
      "outputs": [],
      "source": [
        "# Instrucción para generar un modelo de regresión lineal, ajustar y mostrar resultados\n",
        "modelo = smf.ols('Y ~ X', df)\n",
        "modelo = modelo.fit()\n",
        "modelo.summary()"
      ]
    },
    {
      "cell_type": "code",
      "execution_count": null,
      "metadata": {
        "id": "G7_Mr7Es5umZ"
      },
      "outputs": [],
      "source": [
        "# Método para gráficar una matriz de correlaciones como heatmap\n",
        "plt.figure(figsize = (8,4.5))\n",
        "plt.title('Matriz de correlaciones entre las variables del dataset', fontsize = 16)\n",
        "sn.heatmap(df.corr(), cmap = 'viridis', annot = True);"
      ]
    },
    {
      "cell_type": "code",
      "execution_count": null,
      "metadata": {
        "id": "lNgT01rx_OwH"
      },
      "outputs": [],
      "source": [
        "# Instrucción para gráficar residuos y cuadrado residual\n",
        "residuales = modelo.resid\n",
        "residuales2 = modelo.resid**2\n",
        "pred = modelo.predict()\n",
        "\n",
        "fig, axs = plt.subplots(nrows = 2, ncols = 1 ,figsize=(8, 4.5))\n",
        "\n",
        "axs[0].scatter(pred,residuales)\n",
        "axs[0].axhline(0 , color = 'red')\n",
        "axs[0].set_ylabel('Residuos')\n",
        "\n",
        "axs[1].scatter(pred,residuales2)\n",
        "axs[1].set_xlabel('Ventas')\n",
        "axs[1].set_ylabel('Cuadrado de los Residuos')"
      ]
    },
    {
      "cell_type": "code",
      "execution_count": null,
      "metadata": {
        "id": "6a9Pat3DHfAe"
      },
      "outputs": [],
      "source": [
        "# Instrucción para ejecutar prueba White\n",
        "white = smd.het_white(modelo.resid, modelo.model.exog)[1]\n",
        "white"
      ]
    }
  ],
  "metadata": {
    "colab": {
      "collapsed_sections": [],
      "name": "Códigos.ipynb",
      "provenance": []
    },
    "kernelspec": {
      "display_name": "Python 3",
      "name": "python3"
    },
    "language_info": {
      "codemirror_mode": {
        "name": "ipython",
        "version": 3
      },
      "file_extension": ".py",
      "mimetype": "text/x-python",
      "name": "python",
      "nbconvert_exporter": "python",
      "pygments_lexer": "ipython3",
      "version": "3.11.3"
    }
  },
  "nbformat": 4,
  "nbformat_minor": 0
}
